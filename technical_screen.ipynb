{
  "nbformat": 4,
  "nbformat_minor": 0,
  "metadata": {
    "colab": {
      "name": "technical_screen",
      "provenance": [],
      "authorship_tag": "ABX9TyNlf0vgKaERBZQJVrkJosX5",
      "include_colab_link": true
    },
    "kernelspec": {
      "name": "python3",
      "display_name": "Python 3"
    },
    "language_info": {
      "name": "python"
    }
  },
  "cells": [
    {
      "cell_type": "markdown",
      "metadata": {
        "id": "view-in-github",
        "colab_type": "text"
      },
      "source": [
        "<a href=\"https://colab.research.google.com/github/manhanton/DataInsight/blob/master/technical_screen.ipynb\" target=\"_parent\"><img src=\"https://colab.research.google.com/assets/colab-badge.svg\" alt=\"Open In Colab\"/></a>"
      ]
    },
    {
      "cell_type": "code",
      "metadata": {
        "colab": {
          "base_uri": "https://localhost:8080/"
        },
        "id": "sOEgCGoJga7A",
        "outputId": "468f056e-4177-44f1-c0b0-4556913193ec"
      },
      "source": [
        "!pip install yfinance --upgrade --no-cache-dir"
      ],
      "execution_count": 2,
      "outputs": [
        {
          "output_type": "stream",
          "text": [
            "Collecting yfinance\n",
            "  Downloading https://files.pythonhosted.org/packages/79/bd/d64719da8f5367f4d8b16e83507fa1d90942f433f748a4cf3ed7aa515d14/yfinance-0.1.63.tar.gz\n",
            "Requirement already satisfied, skipping upgrade: pandas>=0.24 in /usr/local/lib/python3.7/dist-packages (from yfinance) (1.1.5)\n",
            "Requirement already satisfied, skipping upgrade: numpy>=1.15 in /usr/local/lib/python3.7/dist-packages (from yfinance) (1.19.5)\n",
            "Requirement already satisfied, skipping upgrade: requests>=2.20 in /usr/local/lib/python3.7/dist-packages (from yfinance) (2.23.0)\n",
            "Requirement already satisfied, skipping upgrade: multitasking>=0.0.7 in /usr/local/lib/python3.7/dist-packages (from yfinance) (0.0.9)\n",
            "Collecting lxml>=4.5.1\n",
            "\u001b[?25l  Downloading https://files.pythonhosted.org/packages/30/c0/d0526314971fc661b083ab135747dc68446a3022686da8c16d25fcf6ef07/lxml-4.6.3-cp37-cp37m-manylinux2014_x86_64.whl (6.3MB)\n",
            "\u001b[K     |████████████████████████████████| 6.3MB 34.1MB/s \n",
            "\u001b[?25hRequirement already satisfied, skipping upgrade: python-dateutil>=2.7.3 in /usr/local/lib/python3.7/dist-packages (from pandas>=0.24->yfinance) (2.8.1)\n",
            "Requirement already satisfied, skipping upgrade: pytz>=2017.2 in /usr/local/lib/python3.7/dist-packages (from pandas>=0.24->yfinance) (2018.9)\n",
            "Requirement already satisfied, skipping upgrade: certifi>=2017.4.17 in /usr/local/lib/python3.7/dist-packages (from requests>=2.20->yfinance) (2021.5.30)\n",
            "Requirement already satisfied, skipping upgrade: urllib3!=1.25.0,!=1.25.1,<1.26,>=1.21.1 in /usr/local/lib/python3.7/dist-packages (from requests>=2.20->yfinance) (1.24.3)\n",
            "Requirement already satisfied, skipping upgrade: chardet<4,>=3.0.2 in /usr/local/lib/python3.7/dist-packages (from requests>=2.20->yfinance) (3.0.4)\n",
            "Requirement already satisfied, skipping upgrade: idna<3,>=2.5 in /usr/local/lib/python3.7/dist-packages (from requests>=2.20->yfinance) (2.10)\n",
            "Requirement already satisfied, skipping upgrade: six>=1.5 in /usr/local/lib/python3.7/dist-packages (from python-dateutil>=2.7.3->pandas>=0.24->yfinance) (1.15.0)\n",
            "Building wheels for collected packages: yfinance\n",
            "  Building wheel for yfinance (setup.py) ... \u001b[?25l\u001b[?25hdone\n",
            "  Created wheel for yfinance: filename=yfinance-0.1.63-py2.py3-none-any.whl size=23919 sha256=4e7ffbf69b5d8e239a9ceceaa142c0a82fcd14fcdd074629918a0687aba3d4d8\n",
            "  Stored in directory: /tmp/pip-ephem-wheel-cache-eq40rncm/wheels/fe/a0/79/b73d4a0c535b421b88fc7b393936b371fabbfeaf979eca4050\n",
            "Successfully built yfinance\n",
            "Installing collected packages: lxml, yfinance\n",
            "  Found existing installation: lxml 4.2.6\n",
            "    Uninstalling lxml-4.2.6:\n",
            "      Successfully uninstalled lxml-4.2.6\n",
            "Successfully installed lxml-4.6.3 yfinance-0.1.63\n"
          ],
          "name": "stdout"
        }
      ]
    },
    {
      "cell_type": "code",
      "metadata": {
        "colab": {
          "base_uri": "https://localhost:8080/"
        },
        "id": "l-hInHOIgWC6",
        "outputId": "3f20d8fe-9281-4ac1-b456-9b6c6e08adf5"
      },
      "source": [
        "from pandas_datareader import data as pdr\n",
        "\n",
        "import yfinance as yf\n",
        "yf.pdr_override() # <== that's all it takes :-)\n",
        "\n",
        "# download dataframe\n",
        "data = pdr.get_data_yahoo(\"SPY\", start=\"2017-01-01\", end=\"2017-04-30\")"
      ],
      "execution_count": 3,
      "outputs": [
        {
          "output_type": "stream",
          "text": [
            "\r[*********************100%***********************]  1 of 1 completed\n"
          ],
          "name": "stdout"
        }
      ]
    },
    {
      "cell_type": "code",
      "metadata": {
        "colab": {
          "base_uri": "https://localhost:8080/",
          "height": 450
        },
        "id": "BB3foRsRgYc2",
        "outputId": "405a5480-70eb-4767-dd7c-622c1df34493"
      },
      "source": [
        "data"
      ],
      "execution_count": 4,
      "outputs": [
        {
          "output_type": "execute_result",
          "data": {
            "text/html": [
              "<div>\n",
              "<style scoped>\n",
              "    .dataframe tbody tr th:only-of-type {\n",
              "        vertical-align: middle;\n",
              "    }\n",
              "\n",
              "    .dataframe tbody tr th {\n",
              "        vertical-align: top;\n",
              "    }\n",
              "\n",
              "    .dataframe thead th {\n",
              "        text-align: right;\n",
              "    }\n",
              "</style>\n",
              "<table border=\"1\" class=\"dataframe\">\n",
              "  <thead>\n",
              "    <tr style=\"text-align: right;\">\n",
              "      <th></th>\n",
              "      <th>Open</th>\n",
              "      <th>High</th>\n",
              "      <th>Low</th>\n",
              "      <th>Close</th>\n",
              "      <th>Adj Close</th>\n",
              "      <th>Volume</th>\n",
              "    </tr>\n",
              "    <tr>\n",
              "      <th>Date</th>\n",
              "      <th></th>\n",
              "      <th></th>\n",
              "      <th></th>\n",
              "      <th></th>\n",
              "      <th></th>\n",
              "      <th></th>\n",
              "    </tr>\n",
              "  </thead>\n",
              "  <tbody>\n",
              "    <tr>\n",
              "      <th>2017-01-03</th>\n",
              "      <td>225.039993</td>\n",
              "      <td>225.830002</td>\n",
              "      <td>223.880005</td>\n",
              "      <td>225.240005</td>\n",
              "      <td>207.534515</td>\n",
              "      <td>91366500</td>\n",
              "    </tr>\n",
              "    <tr>\n",
              "      <th>2017-01-04</th>\n",
              "      <td>225.619995</td>\n",
              "      <td>226.750000</td>\n",
              "      <td>225.610001</td>\n",
              "      <td>226.580002</td>\n",
              "      <td>208.769211</td>\n",
              "      <td>78744400</td>\n",
              "    </tr>\n",
              "    <tr>\n",
              "      <th>2017-01-05</th>\n",
              "      <td>226.270004</td>\n",
              "      <td>226.580002</td>\n",
              "      <td>225.479996</td>\n",
              "      <td>226.399994</td>\n",
              "      <td>208.603333</td>\n",
              "      <td>78379000</td>\n",
              "    </tr>\n",
              "    <tr>\n",
              "      <th>2017-01-06</th>\n",
              "      <td>226.529999</td>\n",
              "      <td>227.750000</td>\n",
              "      <td>225.899994</td>\n",
              "      <td>227.210007</td>\n",
              "      <td>209.349670</td>\n",
              "      <td>71559900</td>\n",
              "    </tr>\n",
              "    <tr>\n",
              "      <th>2017-01-09</th>\n",
              "      <td>226.910004</td>\n",
              "      <td>227.070007</td>\n",
              "      <td>226.419998</td>\n",
              "      <td>226.460007</td>\n",
              "      <td>208.658646</td>\n",
              "      <td>46939700</td>\n",
              "    </tr>\n",
              "    <tr>\n",
              "      <th>...</th>\n",
              "      <td>...</td>\n",
              "      <td>...</td>\n",
              "      <td>...</td>\n",
              "      <td>...</td>\n",
              "      <td>...</td>\n",
              "      <td>...</td>\n",
              "    </tr>\n",
              "    <tr>\n",
              "      <th>2017-04-24</th>\n",
              "      <td>237.179993</td>\n",
              "      <td>237.410004</td>\n",
              "      <td>234.559998</td>\n",
              "      <td>237.169998</td>\n",
              "      <td>219.477432</td>\n",
              "      <td>119209900</td>\n",
              "    </tr>\n",
              "    <tr>\n",
              "      <th>2017-04-25</th>\n",
              "      <td>237.910004</td>\n",
              "      <td>238.949997</td>\n",
              "      <td>237.809998</td>\n",
              "      <td>238.550003</td>\n",
              "      <td>220.754486</td>\n",
              "      <td>76698300</td>\n",
              "    </tr>\n",
              "    <tr>\n",
              "      <th>2017-04-26</th>\n",
              "      <td>238.509995</td>\n",
              "      <td>239.529999</td>\n",
              "      <td>238.350006</td>\n",
              "      <td>238.399994</td>\n",
              "      <td>220.615677</td>\n",
              "      <td>84702500</td>\n",
              "    </tr>\n",
              "    <tr>\n",
              "      <th>2017-04-27</th>\n",
              "      <td>238.770004</td>\n",
              "      <td>238.949997</td>\n",
              "      <td>237.979996</td>\n",
              "      <td>238.600006</td>\n",
              "      <td>220.800720</td>\n",
              "      <td>57410300</td>\n",
              "    </tr>\n",
              "    <tr>\n",
              "      <th>2017-04-28</th>\n",
              "      <td>238.899994</td>\n",
              "      <td>238.929993</td>\n",
              "      <td>237.929993</td>\n",
              "      <td>238.080002</td>\n",
              "      <td>220.319565</td>\n",
              "      <td>63532800</td>\n",
              "    </tr>\n",
              "  </tbody>\n",
              "</table>\n",
              "<p>81 rows × 6 columns</p>\n",
              "</div>"
            ],
            "text/plain": [
              "                  Open        High  ...   Adj Close     Volume\n",
              "Date                                ...                       \n",
              "2017-01-03  225.039993  225.830002  ...  207.534515   91366500\n",
              "2017-01-04  225.619995  226.750000  ...  208.769211   78744400\n",
              "2017-01-05  226.270004  226.580002  ...  208.603333   78379000\n",
              "2017-01-06  226.529999  227.750000  ...  209.349670   71559900\n",
              "2017-01-09  226.910004  227.070007  ...  208.658646   46939700\n",
              "...                ...         ...  ...         ...        ...\n",
              "2017-04-24  237.179993  237.410004  ...  219.477432  119209900\n",
              "2017-04-25  237.910004  238.949997  ...  220.754486   76698300\n",
              "2017-04-26  238.509995  239.529999  ...  220.615677   84702500\n",
              "2017-04-27  238.770004  238.949997  ...  220.800720   57410300\n",
              "2017-04-28  238.899994  238.929993  ...  220.319565   63532800\n",
              "\n",
              "[81 rows x 6 columns]"
            ]
          },
          "metadata": {
            "tags": []
          },
          "execution_count": 4
        }
      ]
    },
    {
      "cell_type": "code",
      "metadata": {
        "colab": {
          "base_uri": "https://localhost:8080/",
          "height": 350
        },
        "id": "9yP1iZstkIZM",
        "outputId": "48399c44-b658-4df6-ad85-06e8d9eadd19"
      },
      "source": [
        "from datetime import datetime\n",
        "import yfinance as yf\n",
        "#import mplfinance as mpf\n",
        "import pandas as pd\n",
        "from datetime import datetime\n",
        "\n",
        "series_list = ['EURJPY', 'DX-Y.NYB', 'CL=F']\n",
        "start = datetime(2000, 1, 1)\n",
        "end = datetime.now()\n",
        "\n",
        "def get_yahoo_data(series_list, start, end):\n",
        "    yahoo_df = pd.DataFrame()\n",
        "    for i, series in enumerate(series_list):\n",
        "        print('Calling YAHOO API for Series:  {}'.format(series))\n",
        "        if i == 0:\n",
        "            yahoo_df = pdr.get_data_yahoo(series['Close'], start, end)\n",
        "        else:\n",
        "            _df = pdr.get_data_yahoo(series, start, end)\n",
        "            yahoo_df = yahoo_df.join(_df, how='outer')\n",
        "    return yahoo_df\n",
        "\n",
        "yahoo_df = get_yahoo_data(series_list, start, end)\n",
        "yahoo_df.tail(10)"
      ],
      "execution_count": 10,
      "outputs": [
        {
          "output_type": "stream",
          "text": [
            "Calling YAHOO API for Series:  EURJPY\n"
          ],
          "name": "stdout"
        },
        {
          "output_type": "error",
          "ename": "TypeError",
          "evalue": "ignored",
          "traceback": [
            "\u001b[0;31m---------------------------------------------------------------------------\u001b[0m",
            "\u001b[0;31mTypeError\u001b[0m                                 Traceback (most recent call last)",
            "\u001b[0;32m<ipython-input-10-b8912fe77b6e>\u001b[0m in \u001b[0;36m<module>\u001b[0;34m()\u001b[0m\n\u001b[1;32m     20\u001b[0m     \u001b[0;32mreturn\u001b[0m \u001b[0myahoo_df\u001b[0m\u001b[0;34m\u001b[0m\u001b[0;34m\u001b[0m\u001b[0m\n\u001b[1;32m     21\u001b[0m \u001b[0;34m\u001b[0m\u001b[0m\n\u001b[0;32m---> 22\u001b[0;31m \u001b[0myahoo_df\u001b[0m \u001b[0;34m=\u001b[0m \u001b[0mget_yahoo_data\u001b[0m\u001b[0;34m(\u001b[0m\u001b[0mseries_list\u001b[0m\u001b[0;34m,\u001b[0m \u001b[0mstart\u001b[0m\u001b[0;34m,\u001b[0m \u001b[0mend\u001b[0m\u001b[0;34m)\u001b[0m\u001b[0;34m\u001b[0m\u001b[0;34m\u001b[0m\u001b[0m\n\u001b[0m\u001b[1;32m     23\u001b[0m \u001b[0myahoo_df\u001b[0m\u001b[0;34m.\u001b[0m\u001b[0mtail\u001b[0m\u001b[0;34m(\u001b[0m\u001b[0;36m10\u001b[0m\u001b[0;34m)\u001b[0m\u001b[0;34m\u001b[0m\u001b[0;34m\u001b[0m\u001b[0m\n",
            "\u001b[0;32m<ipython-input-10-b8912fe77b6e>\u001b[0m in \u001b[0;36mget_yahoo_data\u001b[0;34m(series_list, start, end)\u001b[0m\n\u001b[1;32m     14\u001b[0m         \u001b[0mprint\u001b[0m\u001b[0;34m(\u001b[0m\u001b[0;34m'Calling YAHOO API for Series:  {}'\u001b[0m\u001b[0;34m.\u001b[0m\u001b[0mformat\u001b[0m\u001b[0;34m(\u001b[0m\u001b[0mseries\u001b[0m\u001b[0;34m)\u001b[0m\u001b[0;34m)\u001b[0m\u001b[0;34m\u001b[0m\u001b[0;34m\u001b[0m\u001b[0m\n\u001b[1;32m     15\u001b[0m         \u001b[0;32mif\u001b[0m \u001b[0mi\u001b[0m \u001b[0;34m==\u001b[0m \u001b[0;36m0\u001b[0m\u001b[0;34m:\u001b[0m\u001b[0;34m\u001b[0m\u001b[0;34m\u001b[0m\u001b[0m\n\u001b[0;32m---> 16\u001b[0;31m             \u001b[0myahoo_df\u001b[0m \u001b[0;34m=\u001b[0m \u001b[0mpdr\u001b[0m\u001b[0;34m.\u001b[0m\u001b[0mget_data_yahoo\u001b[0m\u001b[0;34m(\u001b[0m\u001b[0mseries\u001b[0m\u001b[0;34m[\u001b[0m\u001b[0;34m'Close'\u001b[0m\u001b[0;34m]\u001b[0m\u001b[0;34m,\u001b[0m \u001b[0mstart\u001b[0m\u001b[0;34m,\u001b[0m \u001b[0mend\u001b[0m\u001b[0;34m)\u001b[0m\u001b[0;34m\u001b[0m\u001b[0;34m\u001b[0m\u001b[0m\n\u001b[0m\u001b[1;32m     17\u001b[0m         \u001b[0;32melse\u001b[0m\u001b[0;34m:\u001b[0m\u001b[0;34m\u001b[0m\u001b[0;34m\u001b[0m\u001b[0m\n\u001b[1;32m     18\u001b[0m             \u001b[0m_df\u001b[0m \u001b[0;34m=\u001b[0m \u001b[0mpdr\u001b[0m\u001b[0;34m.\u001b[0m\u001b[0mget_data_yahoo\u001b[0m\u001b[0;34m(\u001b[0m\u001b[0mseries\u001b[0m\u001b[0;34m,\u001b[0m \u001b[0mstart\u001b[0m\u001b[0;34m,\u001b[0m \u001b[0mend\u001b[0m\u001b[0;34m)\u001b[0m\u001b[0;34m\u001b[0m\u001b[0;34m\u001b[0m\u001b[0m\n",
            "\u001b[0;31mTypeError\u001b[0m: string indices must be integers"
          ]
        }
      ]
    },
    {
      "cell_type": "code",
      "metadata": {
        "colab": {
          "base_uri": "https://localhost:8080/"
        },
        "id": "sZiX7xbQgjeN",
        "outputId": "85bb914e-d6ad-43c6-c76e-84cce2680f03"
      },
      "source": [
        "data.columns"
      ],
      "execution_count": 5,
      "outputs": [
        {
          "output_type": "execute_result",
          "data": {
            "text/plain": [
              "Index(['Open', 'High', 'Low', 'Close', 'Adj Close', 'Volume'], dtype='object')"
            ]
          },
          "metadata": {
            "tags": []
          },
          "execution_count": 5
        }
      ]
    },
    {
      "cell_type": "code",
      "metadata": {
        "colab": {
          "base_uri": "https://localhost:8080/"
        },
        "id": "KndW3OVTmNtD",
        "outputId": "a6ebdff5-c421-4afd-da15-5206c99988e1"
      },
      "source": [
        "!pip install --upgrade mplfinance"
      ],
      "execution_count": 11,
      "outputs": [
        {
          "output_type": "stream",
          "text": [
            "Collecting mplfinance\n",
            "\u001b[?25l  Downloading https://files.pythonhosted.org/packages/3f/4e/a3de915df8d112579beb3df22e47b3929670b10e9c5dfd4a2b31bf1a34a7/mplfinance-0.12.7a17-py3-none-any.whl (62kB)\n",
            "\r\u001b[K     |█████▎                          | 10kB 14.2MB/s eta 0:00:01\r\u001b[K     |██████████▌                     | 20kB 19.7MB/s eta 0:00:01\r\u001b[K     |███████████████▊                | 30kB 22.9MB/s eta 0:00:01\r\u001b[K     |█████████████████████           | 40kB 24.0MB/s eta 0:00:01\r\u001b[K     |██████████████████████████▎     | 51kB 26.8MB/s eta 0:00:01\r\u001b[K     |███████████████████████████████▌| 61kB 29.7MB/s eta 0:00:01\r\u001b[K     |████████████████████████████████| 71kB 7.0MB/s \n",
            "\u001b[?25hRequirement already satisfied, skipping upgrade: matplotlib in /usr/local/lib/python3.7/dist-packages (from mplfinance) (3.2.2)\n",
            "Requirement already satisfied, skipping upgrade: pandas in /usr/local/lib/python3.7/dist-packages (from mplfinance) (1.1.5)\n",
            "Requirement already satisfied, skipping upgrade: pyparsing!=2.0.4,!=2.1.2,!=2.1.6,>=2.0.1 in /usr/local/lib/python3.7/dist-packages (from matplotlib->mplfinance) (2.4.7)\n",
            "Requirement already satisfied, skipping upgrade: cycler>=0.10 in /usr/local/lib/python3.7/dist-packages (from matplotlib->mplfinance) (0.10.0)\n",
            "Requirement already satisfied, skipping upgrade: numpy>=1.11 in /usr/local/lib/python3.7/dist-packages (from matplotlib->mplfinance) (1.19.5)\n",
            "Requirement already satisfied, skipping upgrade: python-dateutil>=2.1 in /usr/local/lib/python3.7/dist-packages (from matplotlib->mplfinance) (2.8.1)\n",
            "Requirement already satisfied, skipping upgrade: kiwisolver>=1.0.1 in /usr/local/lib/python3.7/dist-packages (from matplotlib->mplfinance) (1.3.1)\n",
            "Requirement already satisfied, skipping upgrade: pytz>=2017.2 in /usr/local/lib/python3.7/dist-packages (from pandas->mplfinance) (2018.9)\n",
            "Requirement already satisfied, skipping upgrade: six in /usr/local/lib/python3.7/dist-packages (from cycler>=0.10->matplotlib->mplfinance) (1.15.0)\n",
            "Installing collected packages: mplfinance\n",
            "Successfully installed mplfinance-0.12.7a17\n"
          ],
          "name": "stdout"
        }
      ]
    },
    {
      "cell_type": "code",
      "metadata": {
        "colab": {
          "base_uri": "https://localhost:8080/"
        },
        "id": "cY3T_6iVhLpY",
        "outputId": "8d7b46b6-6161-479d-8959-3430307516b6"
      },
      "source": [
        "data = yf.download(  # or pdr.get_data_yahoo(...\n",
        "        # tickers list or string as well\n",
        "        tickers = \"EURJPY=X CL=F\",\n",
        "\n",
        "        # use \"period\" instead of start/end\n",
        "        # valid periods: 1d,5d,1mo,3mo,6mo,1y,2y,5y,10y,ytd,max\n",
        "        # (optional, default is '1mo')\n",
        "        period = \"4y\",\n",
        "\n",
        "        # fetch data by interval (including intraday if period < 60 days)\n",
        "        # valid intervals: 1m,2m,5m,15m,30m,60m,90m,1h,1d,5d,1wk,1mo,3mo\n",
        "        # (optional, default is '1d')\n",
        "        interval = \"1wk\",\n",
        "\n",
        "        # group by ticker (to access via data['SPY'])\n",
        "        # (optional, default is 'column')\n",
        "        group_by = 'ticker',\n",
        "\n",
        "        # adjust all OHLC automatically\n",
        "        # (optional, default is False)\n",
        "        auto_adjust = True,\n",
        "\n",
        "        # download pre/post regular market hours data\n",
        "        # (optional, default is False)\n",
        "        prepost = True,\n",
        "\n",
        "        # use threads for mass downloading? (True/False/Integer)\n",
        "        # (optional, default is True)\n",
        "        threads = True,\n",
        "\n",
        "        # proxy URL scheme use use when downloading?\n",
        "        # (optional, default is None)\n",
        "        proxy = None\n",
        "    )"
      ],
      "execution_count": 55,
      "outputs": [
        {
          "output_type": "stream",
          "text": [
            "[*********************100%***********************]  2 of 2 completed\n"
          ],
          "name": "stdout"
        }
      ]
    },
    {
      "cell_type": "code",
      "metadata": {
        "colab": {
          "base_uri": "https://localhost:8080/",
          "height": 481
        },
        "id": "AFMwlbLsmXLl",
        "outputId": "c82adf0f-d594-40dd-94fc-7c6d75ea5791"
      },
      "source": [
        "data"
      ],
      "execution_count": 56,
      "outputs": [
        {
          "output_type": "execute_result",
          "data": {
            "text/html": [
              "<div>\n",
              "<style scoped>\n",
              "    .dataframe tbody tr th:only-of-type {\n",
              "        vertical-align: middle;\n",
              "    }\n",
              "\n",
              "    .dataframe tbody tr th {\n",
              "        vertical-align: top;\n",
              "    }\n",
              "\n",
              "    .dataframe thead tr th {\n",
              "        text-align: left;\n",
              "    }\n",
              "\n",
              "    .dataframe thead tr:last-of-type th {\n",
              "        text-align: right;\n",
              "    }\n",
              "</style>\n",
              "<table border=\"1\" class=\"dataframe\">\n",
              "  <thead>\n",
              "    <tr>\n",
              "      <th></th>\n",
              "      <th colspan=\"5\" halign=\"left\">CL=F</th>\n",
              "      <th colspan=\"5\" halign=\"left\">EURJPY=X</th>\n",
              "    </tr>\n",
              "    <tr>\n",
              "      <th></th>\n",
              "      <th>Open</th>\n",
              "      <th>High</th>\n",
              "      <th>Low</th>\n",
              "      <th>Close</th>\n",
              "      <th>Volume</th>\n",
              "      <th>Open</th>\n",
              "      <th>High</th>\n",
              "      <th>Low</th>\n",
              "      <th>Close</th>\n",
              "      <th>Volume</th>\n",
              "    </tr>\n",
              "    <tr>\n",
              "      <th>Date</th>\n",
              "      <th></th>\n",
              "      <th></th>\n",
              "      <th></th>\n",
              "      <th></th>\n",
              "      <th></th>\n",
              "      <th></th>\n",
              "      <th></th>\n",
              "      <th></th>\n",
              "      <th></th>\n",
              "      <th></th>\n",
              "    </tr>\n",
              "  </thead>\n",
              "  <tbody>\n",
              "    <tr>\n",
              "      <th>2017-07-10</th>\n",
              "      <td>45.439999</td>\n",
              "      <td>46.740002</td>\n",
              "      <td>44.990002</td>\n",
              "      <td>46.540001</td>\n",
              "      <td>1491866</td>\n",
              "      <td>129.371994</td>\n",
              "      <td>129.639999</td>\n",
              "      <td>128.533005</td>\n",
              "      <td>128.972000</td>\n",
              "      <td>0.0</td>\n",
              "    </tr>\n",
              "    <tr>\n",
              "      <th>2017-07-17</th>\n",
              "      <td>46.680000</td>\n",
              "      <td>47.549999</td>\n",
              "      <td>45.540001</td>\n",
              "      <td>45.770000</td>\n",
              "      <td>2399789</td>\n",
              "      <td>128.996002</td>\n",
              "      <td>130.492004</td>\n",
              "      <td>128.576996</td>\n",
              "      <td>129.591003</td>\n",
              "      <td>0.0</td>\n",
              "    </tr>\n",
              "    <tr>\n",
              "      <th>2017-07-24</th>\n",
              "      <td>45.619999</td>\n",
              "      <td>49.810001</td>\n",
              "      <td>45.400002</td>\n",
              "      <td>49.709999</td>\n",
              "      <td>4133456</td>\n",
              "      <td>129.595001</td>\n",
              "      <td>130.580994</td>\n",
              "      <td>128.886002</td>\n",
              "      <td>129.811005</td>\n",
              "      <td>0.0</td>\n",
              "    </tr>\n",
              "    <tr>\n",
              "      <th>2017-07-31</th>\n",
              "      <td>49.849998</td>\n",
              "      <td>50.430000</td>\n",
              "      <td>48.369999</td>\n",
              "      <td>49.580002</td>\n",
              "      <td>4221271</td>\n",
              "      <td>129.820999</td>\n",
              "      <td>131.363007</td>\n",
              "      <td>129.591995</td>\n",
              "      <td>130.481003</td>\n",
              "      <td>0.0</td>\n",
              "    </tr>\n",
              "    <tr>\n",
              "      <th>2017-08-07</th>\n",
              "      <td>49.590000</td>\n",
              "      <td>50.220001</td>\n",
              "      <td>47.980000</td>\n",
              "      <td>48.820000</td>\n",
              "      <td>4553541</td>\n",
              "      <td>130.483994</td>\n",
              "      <td>130.843002</td>\n",
              "      <td>128.048004</td>\n",
              "      <td>129.139999</td>\n",
              "      <td>0.0</td>\n",
              "    </tr>\n",
              "    <tr>\n",
              "      <th>...</th>\n",
              "      <td>...</td>\n",
              "      <td>...</td>\n",
              "      <td>...</td>\n",
              "      <td>...</td>\n",
              "      <td>...</td>\n",
              "      <td>...</td>\n",
              "      <td>...</td>\n",
              "      <td>...</td>\n",
              "      <td>...</td>\n",
              "      <td>...</td>\n",
              "    </tr>\n",
              "    <tr>\n",
              "      <th>2021-06-21</th>\n",
              "      <td>71.519997</td>\n",
              "      <td>74.250000</td>\n",
              "      <td>71.150002</td>\n",
              "      <td>74.050003</td>\n",
              "      <td>1750978</td>\n",
              "      <td>130.781006</td>\n",
              "      <td>132.684998</td>\n",
              "      <td>130.061005</td>\n",
              "      <td>132.228119</td>\n",
              "      <td>0.0</td>\n",
              "    </tr>\n",
              "    <tr>\n",
              "      <th>2021-06-28</th>\n",
              "      <td>73.989998</td>\n",
              "      <td>76.220001</td>\n",
              "      <td>71.970001</td>\n",
              "      <td>75.160004</td>\n",
              "      <td>2052984</td>\n",
              "      <td>132.326004</td>\n",
              "      <td>132.425995</td>\n",
              "      <td>131.259995</td>\n",
              "      <td>131.748932</td>\n",
              "      <td>0.0</td>\n",
              "    </tr>\n",
              "    <tr>\n",
              "      <th>2021-07-05</th>\n",
              "      <td>75.349998</td>\n",
              "      <td>76.980003</td>\n",
              "      <td>70.760002</td>\n",
              "      <td>74.559998</td>\n",
              "      <td>2273859</td>\n",
              "      <td>131.755005</td>\n",
              "      <td>131.856003</td>\n",
              "      <td>129.630005</td>\n",
              "      <td>130.813278</td>\n",
              "      <td>0.0</td>\n",
              "    </tr>\n",
              "    <tr>\n",
              "      <th>2021-07-12</th>\n",
              "      <td>74.739998</td>\n",
              "      <td>74.930000</td>\n",
              "      <td>73.160004</td>\n",
              "      <td>74.099998</td>\n",
              "      <td>422154</td>\n",
              "      <td>130.841003</td>\n",
              "      <td>130.981003</td>\n",
              "      <td>130.462997</td>\n",
              "      <td>130.848999</td>\n",
              "      <td>0.0</td>\n",
              "    </tr>\n",
              "    <tr>\n",
              "      <th>2021-07-13</th>\n",
              "      <td>74.180000</td>\n",
              "      <td>74.739998</td>\n",
              "      <td>74.029999</td>\n",
              "      <td>74.190002</td>\n",
              "      <td>58627</td>\n",
              "      <td>130.899994</td>\n",
              "      <td>131.087997</td>\n",
              "      <td>130.460007</td>\n",
              "      <td>130.511002</td>\n",
              "      <td>0.0</td>\n",
              "    </tr>\n",
              "  </tbody>\n",
              "</table>\n",
              "<p>211 rows × 10 columns</p>\n",
              "</div>"
            ],
            "text/plain": [
              "                 CL=F                        ...    EURJPY=X                   \n",
              "                 Open       High        Low  ...         Low       Close Volume\n",
              "Date                                         ...                               \n",
              "2017-07-10  45.439999  46.740002  44.990002  ...  128.533005  128.972000    0.0\n",
              "2017-07-17  46.680000  47.549999  45.540001  ...  128.576996  129.591003    0.0\n",
              "2017-07-24  45.619999  49.810001  45.400002  ...  128.886002  129.811005    0.0\n",
              "2017-07-31  49.849998  50.430000  48.369999  ...  129.591995  130.481003    0.0\n",
              "2017-08-07  49.590000  50.220001  47.980000  ...  128.048004  129.139999    0.0\n",
              "...               ...        ...        ...  ...         ...         ...    ...\n",
              "2021-06-21  71.519997  74.250000  71.150002  ...  130.061005  132.228119    0.0\n",
              "2021-06-28  73.989998  76.220001  71.970001  ...  131.259995  131.748932    0.0\n",
              "2021-07-05  75.349998  76.980003  70.760002  ...  129.630005  130.813278    0.0\n",
              "2021-07-12  74.739998  74.930000  73.160004  ...  130.462997  130.848999    0.0\n",
              "2021-07-13  74.180000  74.739998  74.029999  ...  130.460007  130.511002    0.0\n",
              "\n",
              "[211 rows x 10 columns]"
            ]
          },
          "metadata": {
            "tags": []
          },
          "execution_count": 56
        }
      ]
    },
    {
      "cell_type": "code",
      "metadata": {
        "id": "EbXe0Sq1mgco"
      },
      "source": [
        "data.columns = data.columns.map('|'.join).str.strip('|')"
      ],
      "execution_count": 57,
      "outputs": []
    },
    {
      "cell_type": "code",
      "metadata": {
        "colab": {
          "base_uri": "https://localhost:8080/",
          "height": 314
        },
        "id": "ddIYGRD-okAy",
        "outputId": "d01d8b91-e0e9-4635-b0b3-0c30d7890453"
      },
      "source": [
        "from matplotlib.pyplot import figure\n",
        "figure(figsize=(20, 6), dpi=100)\n",
        "\n",
        "# Create some mock data\n",
        "t = data.index\n",
        "data1 = data['EURJPY=X|Close']\n",
        "data2 = data['CL=F|Close']\n",
        "\n",
        "fig, ax1 = plt.subplots()\n",
        "\n",
        "color = 'tab:red'\n",
        "ax1.set_xlabel('time (s)')\n",
        "ax1.set_ylabel('exp', color=color)\n",
        "ax1.plot(t, data1, color=color)\n",
        "ax1.tick_params(axis='y', labelcolor=color)\n",
        "\n",
        "ax2 = ax1.twinx()  # instantiate a second axes that shares the same x-axis\n",
        "\n",
        "color = 'tab:blue'\n",
        "ax2.set_ylabel('sin', color=color)  # we already handled the x-label with ax1\n",
        "ax2.plot(t, data2, color=color)\n",
        "ax2.tick_params(axis='y', labelcolor=color)\n",
        "\n",
        "fig.tight_layout()  # otherwise the right y-label is slightly clipped\n",
        "plt.show()"
      ],
      "execution_count": 59,
      "outputs": [
        {
          "output_type": "display_data",
          "data": {
            "text/plain": [
              "<Figure size 2000x600 with 0 Axes>"
            ]
          },
          "metadata": {
            "tags": []
          }
        },
        {
          "output_type": "display_data",
          "data": {
            "image/png": "[encoded data removed]",
            "text/plain": [
              "<Figure size 432x288 with 2 Axes>"
            ]
          },
          "metadata": {
            "tags": [],
            "needs_background": "light"
          }
        }
      ]
    },
    {
      "cell_type": "code",
      "metadata": {
        "id": "veBDRH5RqK0Y"
      },
      "source": [
        ""
      ],
      "execution_count": null,
      "outputs": []
    }
  ]
}